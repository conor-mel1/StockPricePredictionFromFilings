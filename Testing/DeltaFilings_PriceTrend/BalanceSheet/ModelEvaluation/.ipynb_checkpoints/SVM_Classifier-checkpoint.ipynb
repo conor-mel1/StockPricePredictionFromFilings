{
 "cells": [
  {
   "cell_type": "code",
   "execution_count": 21,
   "metadata": {},
   "outputs": [],
   "source": [
    "import numpy as np\n",
    "import pandas as pd\n",
    "from sklearn.model_selection import train_test_split \n",
    "from sklearn.metrics import accuracy_score\n",
    "from sklearn.model_selection import GridSearchCV, StratifiedKFold, cross_val_score\n",
    "from sklearn.svm import SVC"
   ]
  },
  {
   "cell_type": "code",
   "execution_count": 22,
   "metadata": {},
   "outputs": [
    {
     "name": "stdout",
     "output_type": "stream",
     "text": [
      "Total Assets\n",
      "Done\n",
      "Total Liabilities\n",
      "Done\n",
      "Total Equity\n",
      "Done\n",
      "Total Shares Out. on Filing Date\n",
      "Done\n",
      "Book Value / Share\n",
      "Done\n",
      "Tangible Book Value\n",
      "Done\n",
      "Tangible Book Value Per Share\n",
      "Done\n",
      "Total Debt\n",
      "Done\n",
      "Net Debt\n",
      "Done\n",
      "X: [[0.57412675 0.68191239 0.52642218 ... 0.15660121 0.66576035 0.59525398]\n",
      " [0.56162183 0.66823206 0.52312694 ... 0.15688709 0.65094776 0.60260052]\n",
      " [0.5583857  0.66685155 0.51878735 ... 0.15653233 0.64989047 0.60171398]\n",
      " ...\n",
      " [0.55809846 0.67046279 0.51237429 ... 0.15644957 0.65595174 0.608092  ]\n",
      " [0.56398688 0.67446145 0.51787038 ... 0.15653408 0.66283855 0.61190508]\n",
      " [0.56259345 0.67198972 0.51903259 ... 0.15619478 0.65718794 0.60745648]]\n",
      "\n",
      "\n",
      "Type X: <class 'numpy.ndarray'>\n",
      "Length of Individual X_train Vector: 9\n",
      "Total Number of Training instances: 4500\n",
      "\n",
      "\n",
      "[1. 1. 1. ... 0. 0. 1.]\n",
      "\n",
      "\n",
      "Type y: <class 'numpy.ndarray'>\n",
      "Length of Individual y_train vector 1.0\n",
      "Total number of y values 4500\n"
     ]
    }
   ],
   "source": [
    "data = pd.read_csv('BSTrend_data.csv')\n",
    "data\n",
    "\n",
    "classes = data['Classification'] \n",
    "data = data.drop(['Company', 'Time', 'Classification'], axis = 1)\n",
    "\n",
    "col_list = []\n",
    "for col in data.columns:\n",
    "    col_list.append(col)\n",
    "    \n",
    "for col in col_list:\n",
    "    print(col)\n",
    "    data[col] = data[col].astype(float) # Converting columns to floats\n",
    "    print(\"Done\")\n",
    "    \n",
    "# Normalising the data\n",
    "from sklearn.preprocessing import MinMaxScaler\n",
    "\n",
    "scaler = MinMaxScaler() \n",
    "scaled_values = scaler.fit_transform(data) \n",
    "data.loc[:,:] = scaled_values\n",
    "\n",
    "data.insert(data.shape[1], 'Classification', classes)\n",
    "data\n",
    "\n",
    "# Converting Data to Numpy Arrays\n",
    "NpMatrix = data.to_numpy(dtype = None, copy = False)\n",
    "X = NpMatrix[:,0:9] # Parameters\n",
    "y = NpMatrix[:,9] # Price\n",
    "print(\"X:\", X)\n",
    "print(\"\\n\")\n",
    "print(\"Type X:\", type(X))\n",
    "print(\"Length of Individual X_train Vector:\", len(X[1]))\n",
    "print(\"Total Number of Training instances:\", len(X))\n",
    "print(\"\\n\")\n",
    "print(y)\n",
    "print(\"\\n\")\n",
    "print(\"Type y:\", type(y))\n",
    "print(\"Length of Individual y_train vector\", y[0])\n",
    "print(\"Total number of y values\", len(y))"
   ]
  },
  {
   "cell_type": "code",
   "execution_count": 25,
   "metadata": {},
   "outputs": [],
   "source": [
    "SVM = SVC(C=0.1, cache_size=200, class_weight=None, coef0=0.0,\n",
    "    decision_function_shape='ovr', degree=1, gamma='scale', kernel='rbf',\n",
    "    max_iter=-1, probability=False, random_state=None, shrinking=True,\n",
    "    tol=0.001, verbose=False)"
   ]
  },
  {
   "cell_type": "code",
   "execution_count": 26,
   "metadata": {},
   "outputs": [
    {
     "name": "stdout",
     "output_type": "stream",
     "text": [
      "[0.67405765 0.67405765 0.67555556 0.67555556 0.67555556 0.67555556\n",
      " 0.67555556 0.67555556 0.67483296 0.67483296]\n",
      "Mean MAE: 0.6751114556944315\n",
      "SD of the mean: 0.0005966137550331421\n"
     ]
    }
   ],
   "source": [
    "# 7 minutes to run\n",
    "CV = StratifiedKFold(n_splits=10, random_state=None, shuffle=False)\n",
    "\n",
    "scores = cross_val_score(SVM, X, y, cv = CV) \n",
    "\n",
    "print(scores)\n",
    "\n",
    "print(\"Mean MAE:\", scores.mean())\n",
    "print(\"SD of the mean:\", scores.std())"
   ]
  }
 ],
 "metadata": {
  "kernelspec": {
   "display_name": "Python 3",
   "language": "python",
   "name": "python3"
  },
  "language_info": {
   "codemirror_mode": {
    "name": "ipython",
    "version": 3
   },
   "file_extension": ".py",
   "mimetype": "text/x-python",
   "name": "python",
   "nbconvert_exporter": "python",
   "pygments_lexer": "ipython3",
   "version": "3.7.3"
  }
 },
 "nbformat": 4,
 "nbformat_minor": 2
}
